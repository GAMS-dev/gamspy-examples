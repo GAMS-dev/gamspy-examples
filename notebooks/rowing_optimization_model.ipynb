{
 "cells": [
  {
   "cell_type": "markdown",
   "metadata": {},
   "source": [
    "## Load Cell Calibration Optimization Model\n",
    "\n",
    "Allicia Moeller  \n",
    "Fall 2024\n",
    "\n",
    "--------------"
   ]
  },
  {
   "cell_type": "code",
   "execution_count": 1,
   "metadata": {},
   "outputs": [
    {
     "name": "stderr",
     "output_type": "stream",
     "text": [
      "C:\\Users\\16127\\anaconda3\\lib\\site-packages\\pandas\\core\\computation\\expressions.py:21: UserWarning: Pandas requires version '2.8.4' or newer of 'numexpr' (version '2.8.1' currently installed).\n",
      "  from pandas.core.computation.check import NUMEXPR_INSTALLED\n",
      "C:\\Users\\16127\\anaconda3\\lib\\site-packages\\pandas\\core\\arrays\\masked.py:60: UserWarning: Pandas requires version '1.3.6' or newer of 'bottleneck' (version '1.3.4' currently installed).\n",
      "  from pandas.core import (\n"
     ]
    }
   ],
   "source": [
    "import sys\n",
    "import numpy as np\n",
    "import pandas as pd\n",
    "import math\n",
    "import matplotlib.pyplot as plt\n",
    "\n",
    "from gamspy import (\n",
    "    Container,Set,Alias,Parameter,Variable,Equation,Model,Problem,Sense,Options,\n",
    "    Domain,Number,Sum,Product,Smax,Smin,Ord,Card,SpecialValues,\n",
    ")\n",
    "import gamspy.math as gpm\n",
    "\n",
    "options = Options(equation_listing_limit=100)\n",
    "m = Container(options=options)"
   ]
  },
  {
   "cell_type": "markdown",
   "metadata": {},
   "source": [
    "### Background\n",
    "\n",
    " **What is the issue being addressed?**\n",
    " \n",
    " My senior design project for BME 400 involves designing force plates for the foot-stretchers of a rowing machine to display real-time force output of the left and right lower extremities. Each plate has four load cells that convert mechanical force into electrical signals. Due to varying proportionality coefficients (force/voltage) among load cells, a 5-point calibration for each individual load cell before installation into the plate is recommended, necessitating a separate calibration system and annual recalibration. To reduce steps in development and maintenance of our prototype, I want to make an optimization model that assigns best-fit proportionality constants to each of the 4 load cells after they are built into the force plate. \n",
    "\n",
    "$$\n",
    "\\text{loadcell} = [a, b, c, d]\n",
    "$$\n",
    "\n",
    "$$\n",
    "adc_{\\text{loadcell}} = \\text{measure load cell voltage converted in digital adc value}\n",
    "$$\n",
    "\n",
    "$$\n",
    "k_{\\text{loadcell}} = \\text{proportionaly constant (lb / adc value)}\n",
    "$$\n",
    "\n",
    "$$\n",
    "\\text{Total force on plate} = adc_{a} * k_{a} + adc_{b} * k_{b} + adc_{c} * k_{c} + adc_{d} * k_{d}\n",
    "$$\n",
    "\n",
    "**How will the model be used?**\n",
    "\n",
    "Next semester, when construction of the force plates is completed, we will install all the load cells, then place an object of known mass on force plate and record adc values from each of the 4 load cells. The object will be moved around to 5 different spots on the force plate (to vary the force distribution across the load cells) and the adc vlaues will be be recorded. This process will be repeated with 5 different weights. Then, I will run the model on the adc values and known total weight data to backsolve for the optimal proportionality coefficients $k_{\\text{loadcell}}$ so that we can accurately calulate total force on the plate from measured load cell adc values."
   ]
  },
  {
   "cell_type": "markdown",
   "metadata": {},
   "source": [
    "### Approach\n",
    "\n",
    "The set of equations gained from data generation will be of the form $Ax = b$\n",
    "\n",
    "**A** = adc values  \n",
    "**x** = $k_{\\text{loadcell}}$  \n",
    "**b** = known total weight\n",
    "\n",
    "\n",
    "where **A** has the dimensions: [m = number of trials, n = number of load cells (4)]\n",
    "\n",
    "As described above, there will be 5 different weights moved to 5 different spots, so there will 5*5 = 25 trials. Because m > n, the linear system $Ax = b$ is overdefined, and there is likely no solution for x.\n",
    "\n",
    "I will introduce a residual term **r** to the linear equation such that $Ax - b = r$ so that we can find the best possible solution for **x** by minimizing residuals.\n",
    "\n",
    "I will test multiple different loss functions with the residual term **r** with test data to determine which is the most effective.\n",
    "\n",
    "Loss functions:\n",
    "- Minimax model ($\\infty$-norm)\n",
    "- Minimize the sum of $|r|$ (1-norm)\n",
    "- Least squares model (2-norm)\n",
    "- k-norm model\n",
    "- Huber model\n"
   ]
  },
  {
   "cell_type": "markdown",
   "metadata": {},
   "source": [
    "### Test Data Generation\n",
    "\n",
    "\n",
    "The purpose of this optimization model is to effectively backsolve for individual load cell calibration coefficients in terms of lb/adc value. In order to test the effectivness of the model, I will choose load cell coefficients, create adc test data from those values, inject noise into the test data, then evaluate how well the model solves for the original load cell coefficients.\n",
    "\n",
    "**Test data load cell coefficient selection:**\n",
    "\n",
    "I will generate realistic load cell coefficients based on the characteristics of load cell amplification circuitry.\n",
    "\n",
    "The raw voltage output of the load cell increases by approximately **1 mV per pound** of applied force. This voltage is then amplified using a non-inverting amplifier with a gain of approximately **23 V/V**. The amplified signal is converted from analog to digital using a **12-bit ADC (analog-to-digital converter)**. A 12-bit ADC provides $2^{12} = 4096$ discrete steps between 0 and the supply voltage of 5V.\n",
    "\n",
    "The ideal load cell calibration coefficient can be derived as follows:\n",
    "\n",
    "$$\n",
    "\\text{Ideal calibration coefficient} = \\frac{1 \\, \\text{lb}}{0.001 \\, \\text{V} \\cdot 23 \\, \\text{V/V}} \\cdot \\frac{5 \\, \\text{V}}{4096 \\, \\text{ADC steps}} =  0.053074049 \\, \\frac{\\text{lb}}{\\text{ADC step}}\n",
    "$$\n",
    "\n",
    "**Sources of coefficient variation:**\n",
    "1. Every manufactured load cell has slight variations in its force-to-voltage ratio.\n",
    "2. The gain value of **23 V/V** may also have errors due to resistor mismatches in the amplifier circuit.  \n",
    "\n",
    "The tolerance of the resistor used in the non-inverting amplifier is 5%, so the tolerance of the gain is +- 1.1 V/V, which means the tolerance of the ideal calibration coefficient is +- 0.002422467. \n",
    "\n",
    "$$\n",
    "\\text{(Ideal + tolerance) calibration coefficient} = \\frac{1 \\, \\text{lb}}{0.001 \\, \\text{V} \\cdot 23 + 1.1 \\, \\text{V/V}} \\cdot \\frac{5 \\, \\text{V}}{4096 \\, \\text{ADC steps}} = 0.050651582\n",
    "$$\n",
    "$$\n",
    "0.053074049 - 0.050651582 = 0.002422467\n",
    "$$\n",
    "\n",
    "I do not have an empirical way to predict the manufactured load cell coefficient variation, so I will solely use +- 0.002422467 as the tolerance.\n"
   ]
  },
  {
   "cell_type": "code",
   "execution_count": 2,
   "metadata": {},
   "outputs": [
    {
     "name": "stdout",
     "output_type": "stream",
     "text": [
      "[0.05246620415616762, 0.05525773006741182, 0.0541980443364761, 0.053552042844474686]\n"
     ]
    }
   ],
   "source": [
    "def coefficient_generator(mean_val, tolerance):\n",
    "    coefficient_list = np.random.rand(1,4) * 2*tolerance - tolerance + mean_val\n",
    "    return coefficient_list.tolist()[0]\n",
    "\n",
    "np.random.seed(42) # set seed to save random value\n",
    "coefficients = coefficient_generator(mean_val = 0.053074049, tolerance = 0.002422467)\n",
    "print(coefficients)"
   ]
  },
  {
   "cell_type": "markdown",
   "metadata": {},
   "source": [
    "**ADC test data generation:**\n",
    "\n",
    "The known weight on the force plate is distributed between the 4 load cells. In order to model this, I will generate a [25 x 4] array random numbers from a normal distribution (to represent moving the weight to random spot on the plate, changing the distribution), then scale them so that their sum equals the total known total weight for each trial. This array will represent the actual amount of weight on each load cell. \n",
    "\n",
    "I will then divide these force values by my selected coefficients (see above) to convert them into ideal ADC values. Then, I will add noise to this data to represent sources of error in adc measurement and feed this [25 x 4] array of values into my model as matrix **A**.\n",
    "\n",
    "Real-world sources of error in adc measurement:\n",
    "- Load cell non-linearity and hysteresis\n",
    "- Electrical noise\n",
    "- Capacitor charging delays\n",
    "- Shear load signal distortion of the load cells\n",
    "\n",
    "**Noise predictions:**\n",
    "I cannot predict the amount of noise that each source of error will add into the adc measurement, but I will overcompensate for other sources of error by modeling noise as a +/- 5 mV tolerance on the amplified voltage output (this is an over-estimate).\n",
    "\n",
    "$$\n",
    "\\text{adc noise tolerance} = 0.005 \\text{V} * \\frac{4096 \\text{ adc value}}{5\\text{V}} = 4.096 \\text{ adc value}\n",
    "$$\n"
   ]
  },
  {
   "cell_type": "code",
   "execution_count": 3,
   "metadata": {},
   "outputs": [
    {
     "data": {
      "text/html": [
       "<div>\n",
       "<style scoped>\n",
       "    .dataframe tbody tr th:only-of-type {\n",
       "        vertical-align: middle;\n",
       "    }\n",
       "\n",
       "    .dataframe tbody tr th {\n",
       "        vertical-align: top;\n",
       "    }\n",
       "\n",
       "    .dataframe thead th {\n",
       "        text-align: right;\n",
       "    }\n",
       "</style>\n",
       "<table border=\"1\" class=\"dataframe\">\n",
       "  <thead>\n",
       "    <tr style=\"text-align: right;\">\n",
       "      <th></th>\n",
       "      <th>Total Weight</th>\n",
       "      <th>adc_a</th>\n",
       "      <th>adc_b</th>\n",
       "      <th>adc_c</th>\n",
       "      <th>adc_d</th>\n",
       "    </tr>\n",
       "  </thead>\n",
       "  <tbody>\n",
       "    <tr>\n",
       "      <th>0</th>\n",
       "      <td>40</td>\n",
       "      <td>103.675674</td>\n",
       "      <td>260.239387</td>\n",
       "      <td>201.888606</td>\n",
       "      <td>168.434605</td>\n",
       "    </tr>\n",
       "    <tr>\n",
       "      <th>1</th>\n",
       "      <td>40</td>\n",
       "      <td>99.553717</td>\n",
       "      <td>89.286398</td>\n",
       "      <td>33.940790</td>\n",
       "      <td>525.423693</td>\n",
       "    </tr>\n",
       "    <tr>\n",
       "      <th>2</th>\n",
       "      <td>40</td>\n",
       "      <td>197.061266</td>\n",
       "      <td>219.417623</td>\n",
       "      <td>4.883800</td>\n",
       "      <td>312.251557</td>\n",
       "    </tr>\n",
       "    <tr>\n",
       "      <th>3</th>\n",
       "      <td>40</td>\n",
       "      <td>453.623276</td>\n",
       "      <td>111.536139</td>\n",
       "      <td>96.264433</td>\n",
       "      <td>100.199399</td>\n",
       "    </tr>\n",
       "    <tr>\n",
       "      <th>4</th>\n",
       "      <td>40</td>\n",
       "      <td>151.925247</td>\n",
       "      <td>242.160935</td>\n",
       "      <td>208.598973</td>\n",
       "      <td>140.467644</td>\n",
       "    </tr>\n",
       "    <tr>\n",
       "      <th>5</th>\n",
       "      <td>80</td>\n",
       "      <td>664.252554</td>\n",
       "      <td>146.489338</td>\n",
       "      <td>304.374517</td>\n",
       "      <td>385.000844</td>\n",
       "    </tr>\n",
       "    <tr>\n",
       "      <th>6</th>\n",
       "      <td>80</td>\n",
       "      <td>353.452375</td>\n",
       "      <td>580.813451</td>\n",
       "      <td>153.351389</td>\n",
       "      <td>395.866021</td>\n",
       "    </tr>\n",
       "    <tr>\n",
       "      <th>7</th>\n",
       "      <td>80</td>\n",
       "      <td>633.470163</td>\n",
       "      <td>47.549045</td>\n",
       "      <td>632.223449</td>\n",
       "      <td>177.507144</td>\n",
       "    </tr>\n",
       "    <tr>\n",
       "      <th>8</th>\n",
       "      <td>80</td>\n",
       "      <td>32.463871</td>\n",
       "      <td>491.415872</td>\n",
       "      <td>514.874975</td>\n",
       "      <td>431.714598</td>\n",
       "    </tr>\n",
       "    <tr>\n",
       "      <th>9</th>\n",
       "      <td>80</td>\n",
       "      <td>304.392524</td>\n",
       "      <td>94.286797</td>\n",
       "      <td>660.436143</td>\n",
       "      <td>434.561535</td>\n",
       "    </tr>\n",
       "  </tbody>\n",
       "</table>\n",
       "</div>"
      ],
      "text/plain": [
       "   Total Weight       adc_a       adc_b       adc_c       adc_d\n",
       "0            40  103.675674  260.239387  201.888606  168.434605\n",
       "1            40   99.553717   89.286398   33.940790  525.423693\n",
       "2            40  197.061266  219.417623    4.883800  312.251557\n",
       "3            40  453.623276  111.536139   96.264433  100.199399\n",
       "4            40  151.925247  242.160935  208.598973  140.467644\n",
       "5            80  664.252554  146.489338  304.374517  385.000844\n",
       "6            80  353.452375  580.813451  153.351389  395.866021\n",
       "7            80  633.470163   47.549045  632.223449  177.507144\n",
       "8            80   32.463871  491.415872  514.874975  431.714598\n",
       "9            80  304.392524   94.286797  660.436143  434.561535"
      ]
     },
     "metadata": {},
     "output_type": "display_data"
    }
   ],
   "source": [
    "def test_data_generator(coefficients, noise_tolerance):\n",
    "    test_df = pd.DataFrame()\n",
    "    test_df[['rand_a', 'rand_b', 'rand_c', 'rand_d']] = np.random.rand(25,4)\n",
    "    test_df['Total random'] = test_df[['rand_a', 'rand_b', 'rand_c', 'rand_d']].sum(axis=1)\n",
    "    test_df['Total Weight'] = [x for x in [40, 80, 120, 160, 200] for _ in range(5)]\n",
    "    test_df[['rand_a_lbs', 'rand_b_lbs', 'rand_c_lbs', 'rand_d_lbs']] = test_df[['rand_a', 'rand_b', 'rand_c', 'rand_d']].multiply(test_df['Total Weight']/test_df['Total random'], axis=0)\n",
    "    coefficients_series = pd.Series(coefficients, index=['rand_a_lbs', 'rand_b_lbs', 'rand_c_lbs', 'rand_d_lbs'])\n",
    "    adc_vals = test_df[['rand_a_lbs', 'rand_b_lbs', 'rand_c_lbs', 'rand_d_lbs']] / coefficients_series\n",
    "    test_df[['adc_a', 'adc_b', 'adc_c', 'adc_d']] = np.array(adc_vals)\n",
    "    test_df = test_df.drop(columns=['rand_a', 'rand_b', 'rand_c', 'rand_d','Total random', 'rand_a_lbs', 'rand_b_lbs', 'rand_c_lbs', 'rand_d_lbs'])\n",
    "    noise = np.random.rand(25,4) * 2 *noise_tolerance - noise_tolerance\n",
    "    test_df[['adc_a', 'adc_b', 'adc_c', 'adc_d']] += noise\n",
    "    return test_df\n",
    "\n",
    "np.random.seed(42)\n",
    "df = test_data_generator(coefficients=coefficients, noise_tolerance=4.096)\n",
    "\n",
    "display(df.head(10))"
   ]
  },
  {
   "cell_type": "markdown",
   "metadata": {},
   "source": [
    "### Optimization Model"
   ]
  },
  {
   "cell_type": "code",
   "execution_count": 4,
   "metadata": {},
   "outputs": [],
   "source": [
    "# Load data\n",
    "adc_df = df[['adc_a', 'adc_b', 'adc_c', 'adc_d']]\n",
    "weight_series = df['Total Weight']\n",
    "\n",
    "# Sets\n",
    "row = Set(m,'row',records=df.index)\n",
    "load_cell = Set(m, 'load_cell', records=adc_df.columns)\n",
    "\n",
    "# Parameters\n",
    "A = Parameter(m,'A',domain=[row,'*'],records=adc_df,uels_on_axes=True, description='ADC values for each load cell')\n",
    "b = Parameter(m, 'b', domain=[row], records=weight_series, uels_on_axes=True, description='total known weight on the force plate')\n",
    "\n",
    "# Variables\n",
    "x = Variable(m, 'x', 'positive', domain=[load_cell], description='load cell coefficients')\n",
    "r = Variable(m, 'r', 'free', domain=[row], description='residuals')\n",
    "abs_r = Variable(m, 'abs_r', 'positive', domain=[row], description='absolute value of residuals')\n",
    "\n",
    "# Equations\n",
    "eqn = Equation(m, 'eqn', domain=[row])\n",
    "eqn[row] = Sum(load_cell, A[row,load_cell]*x[load_cell]) + r[row] == b[row]\n",
    "\n",
    "abs_eqn_pos = Equation(m, 'abs_eqn_pos', domain=[row])\n",
    "abs_eqn_pos[row] = abs_r[row] >= r[row]\n",
    "\n",
    "abs_eqn_neg = Equation(m, 'abs_eqn_neg', domain=[row])\n",
    "abs_eqn_neg[row] = abs_r[row] >= -r[row]"
   ]
  },
  {
   "cell_type": "markdown",
   "metadata": {},
   "source": [
    "Loss Function 1: Minimax Model"
   ]
  },
  {
   "cell_type": "code",
   "execution_count": 5,
   "metadata": {},
   "outputs": [
    {
     "data": {
      "text/html": [
       "<div>\n",
       "<style scoped>\n",
       "    .dataframe tbody tr th:only-of-type {\n",
       "        vertical-align: middle;\n",
       "    }\n",
       "\n",
       "    .dataframe tbody tr th {\n",
       "        vertical-align: top;\n",
       "    }\n",
       "\n",
       "    .dataframe thead th {\n",
       "        text-align: right;\n",
       "    }\n",
       "</style>\n",
       "<table border=\"1\" class=\"dataframe\">\n",
       "  <thead>\n",
       "    <tr style=\"text-align: right;\">\n",
       "      <th></th>\n",
       "      <th>load_cell</th>\n",
       "      <th>level</th>\n",
       "      <th>marginal</th>\n",
       "      <th>lower</th>\n",
       "      <th>upper</th>\n",
       "      <th>scale</th>\n",
       "    </tr>\n",
       "  </thead>\n",
       "  <tbody>\n",
       "    <tr>\n",
       "      <th>0</th>\n",
       "      <td>adc_a</td>\n",
       "      <td>0.052236</td>\n",
       "      <td>0.0</td>\n",
       "      <td>0.0</td>\n",
       "      <td>inf</td>\n",
       "      <td>1.0</td>\n",
       "    </tr>\n",
       "    <tr>\n",
       "      <th>1</th>\n",
       "      <td>adc_b</td>\n",
       "      <td>0.055430</td>\n",
       "      <td>0.0</td>\n",
       "      <td>0.0</td>\n",
       "      <td>inf</td>\n",
       "      <td>1.0</td>\n",
       "    </tr>\n",
       "    <tr>\n",
       "      <th>2</th>\n",
       "      <td>adc_c</td>\n",
       "      <td>0.054164</td>\n",
       "      <td>0.0</td>\n",
       "      <td>0.0</td>\n",
       "      <td>inf</td>\n",
       "      <td>1.0</td>\n",
       "    </tr>\n",
       "    <tr>\n",
       "      <th>3</th>\n",
       "      <td>adc_d</td>\n",
       "      <td>0.053794</td>\n",
       "      <td>0.0</td>\n",
       "      <td>0.0</td>\n",
       "      <td>inf</td>\n",
       "      <td>1.0</td>\n",
       "    </tr>\n",
       "  </tbody>\n",
       "</table>\n",
       "</div>"
      ],
      "text/plain": [
       "  load_cell     level  marginal  lower  upper  scale\n",
       "0     adc_a  0.052236       0.0    0.0    inf    1.0\n",
       "1     adc_b  0.055430       0.0    0.0    inf    1.0\n",
       "2     adc_c  0.054164       0.0    0.0    inf    1.0\n",
       "3     adc_d  0.053794       0.0    0.0    inf    1.0"
      ]
     },
     "execution_count": 5,
     "metadata": {},
     "output_type": "execute_result"
    }
   ],
   "source": [
    "# Minimax Model - LP minimizes the maximum error\n",
    "\n",
    "z = Variable(m,'z','free',description='Auxiliary var for maximum')\n",
    "\n",
    "zdef_eq = Equation(m,'zdef_eq',domain=[row])\n",
    "zdef_eq[row]= z >= abs_r[row]\n",
    "\n",
    "minimax = Model(m,\"minimax\",\n",
    "    equations=[eqn, abs_eqn_pos, abs_eqn_neg, zdef_eq],\n",
    "    problem=Problem.LP,\n",
    "    sense=Sense.MIN,\n",
    "    objective=z\n",
    ")\n",
    "\n",
    "minimax.solve()\n",
    "minimax_x = list(x.toDense())\n",
    "minimax_r = r.toDense()\n",
    "\n",
    "x.records"
   ]
  },
  {
   "cell_type": "markdown",
   "metadata": {},
   "source": [
    "Loss Function 2: Minimize the sum of $|r|$ (1-norm)"
   ]
  },
  {
   "cell_type": "code",
   "execution_count": 6,
   "metadata": {},
   "outputs": [
    {
     "data": {
      "text/html": [
       "<div>\n",
       "<style scoped>\n",
       "    .dataframe tbody tr th:only-of-type {\n",
       "        vertical-align: middle;\n",
       "    }\n",
       "\n",
       "    .dataframe tbody tr th {\n",
       "        vertical-align: top;\n",
       "    }\n",
       "\n",
       "    .dataframe thead th {\n",
       "        text-align: right;\n",
       "    }\n",
       "</style>\n",
       "<table border=\"1\" class=\"dataframe\">\n",
       "  <thead>\n",
       "    <tr style=\"text-align: right;\">\n",
       "      <th></th>\n",
       "      <th>load_cell</th>\n",
       "      <th>level</th>\n",
       "      <th>marginal</th>\n",
       "      <th>lower</th>\n",
       "      <th>upper</th>\n",
       "      <th>scale</th>\n",
       "    </tr>\n",
       "  </thead>\n",
       "  <tbody>\n",
       "    <tr>\n",
       "      <th>0</th>\n",
       "      <td>adc_a</td>\n",
       "      <td>0.052300</td>\n",
       "      <td>0.0</td>\n",
       "      <td>0.0</td>\n",
       "      <td>inf</td>\n",
       "      <td>1.0</td>\n",
       "    </tr>\n",
       "    <tr>\n",
       "      <th>1</th>\n",
       "      <td>adc_b</td>\n",
       "      <td>0.055325</td>\n",
       "      <td>0.0</td>\n",
       "      <td>0.0</td>\n",
       "      <td>inf</td>\n",
       "      <td>1.0</td>\n",
       "    </tr>\n",
       "    <tr>\n",
       "      <th>2</th>\n",
       "      <td>adc_c</td>\n",
       "      <td>0.054353</td>\n",
       "      <td>0.0</td>\n",
       "      <td>0.0</td>\n",
       "      <td>inf</td>\n",
       "      <td>1.0</td>\n",
       "    </tr>\n",
       "    <tr>\n",
       "      <th>3</th>\n",
       "      <td>adc_d</td>\n",
       "      <td>0.053536</td>\n",
       "      <td>0.0</td>\n",
       "      <td>0.0</td>\n",
       "      <td>inf</td>\n",
       "      <td>1.0</td>\n",
       "    </tr>\n",
       "  </tbody>\n",
       "</table>\n",
       "</div>"
      ],
      "text/plain": [
       "  load_cell     level  marginal  lower  upper  scale\n",
       "0     adc_a  0.052300       0.0    0.0    inf    1.0\n",
       "1     adc_b  0.055325       0.0    0.0    inf    1.0\n",
       "2     adc_c  0.054353       0.0    0.0    inf    1.0\n",
       "3     adc_d  0.053536       0.0    0.0    inf    1.0"
      ]
     },
     "execution_count": 6,
     "metadata": {},
     "output_type": "execute_result"
    }
   ],
   "source": [
    "#LP minimizes the sum of the absolute value of errors\n",
    "\n",
    "total_abs_error = Sum(row, abs_r[row])\n",
    "\n",
    "l1_error = Model(m,\"l1_error\",\n",
    "    equations=[eqn, abs_eqn_pos, abs_eqn_neg],\n",
    "    problem=Problem.LP,\n",
    "    sense=Sense.MIN,\n",
    "    objective=total_abs_error\n",
    ")\n",
    "\n",
    "l1_error.solve()\n",
    "l1_x = list(x.toDense())\n",
    "l1_r = r.toDense()\n",
    "x.records"
   ]
  },
  {
   "cell_type": "markdown",
   "metadata": {},
   "source": [
    "Loss Function 3: Least squares model (2-norm)\n"
   ]
  },
  {
   "cell_type": "code",
   "execution_count": 7,
   "metadata": {},
   "outputs": [
    {
     "data": {
      "text/html": [
       "<div>\n",
       "<style scoped>\n",
       "    .dataframe tbody tr th:only-of-type {\n",
       "        vertical-align: middle;\n",
       "    }\n",
       "\n",
       "    .dataframe tbody tr th {\n",
       "        vertical-align: top;\n",
       "    }\n",
       "\n",
       "    .dataframe thead th {\n",
       "        text-align: right;\n",
       "    }\n",
       "</style>\n",
       "<table border=\"1\" class=\"dataframe\">\n",
       "  <thead>\n",
       "    <tr style=\"text-align: right;\">\n",
       "      <th></th>\n",
       "      <th>load_cell</th>\n",
       "      <th>level</th>\n",
       "      <th>marginal</th>\n",
       "      <th>lower</th>\n",
       "      <th>upper</th>\n",
       "      <th>scale</th>\n",
       "    </tr>\n",
       "  </thead>\n",
       "  <tbody>\n",
       "    <tr>\n",
       "      <th>0</th>\n",
       "      <td>adc_a</td>\n",
       "      <td>0.052303</td>\n",
       "      <td>4.353598e-08</td>\n",
       "      <td>0.0</td>\n",
       "      <td>inf</td>\n",
       "      <td>1.0</td>\n",
       "    </tr>\n",
       "    <tr>\n",
       "      <th>1</th>\n",
       "      <td>adc_b</td>\n",
       "      <td>0.055274</td>\n",
       "      <td>4.119602e-08</td>\n",
       "      <td>0.0</td>\n",
       "      <td>inf</td>\n",
       "      <td>1.0</td>\n",
       "    </tr>\n",
       "    <tr>\n",
       "      <th>2</th>\n",
       "      <td>adc_c</td>\n",
       "      <td>0.054297</td>\n",
       "      <td>4.193735e-08</td>\n",
       "      <td>0.0</td>\n",
       "      <td>inf</td>\n",
       "      <td>1.0</td>\n",
       "    </tr>\n",
       "    <tr>\n",
       "      <th>3</th>\n",
       "      <td>adc_d</td>\n",
       "      <td>0.053619</td>\n",
       "      <td>4.246715e-08</td>\n",
       "      <td>0.0</td>\n",
       "      <td>inf</td>\n",
       "      <td>1.0</td>\n",
       "    </tr>\n",
       "  </tbody>\n",
       "</table>\n",
       "</div>"
      ],
      "text/plain": [
       "  load_cell     level      marginal  lower  upper  scale\n",
       "0     adc_a  0.052303  4.353598e-08    0.0    inf    1.0\n",
       "1     adc_b  0.055274  4.119602e-08    0.0    inf    1.0\n",
       "2     adc_c  0.054297  4.193735e-08    0.0    inf    1.0\n",
       "3     adc_d  0.053619  4.246715e-08    0.0    inf    1.0"
      ]
     },
     "execution_count": 7,
     "metadata": {},
     "output_type": "execute_result"
    }
   ],
   "source": [
    "# Minimum Square Error Model - QCP minimizes the sum of the squares of errors\n",
    "\n",
    "total_error = 0.5 * Sum(row, gpm.sqr(r[row]))\n",
    "\n",
    "min_SSE = Model(m,\"min_SSE\",\n",
    "    equations=[eqn],\n",
    "    problem=Problem.QCP,\n",
    "    sense=Sense.MIN,\n",
    "    objective=total_error\n",
    ")\n",
    "\n",
    "min_SSE.solve()\n",
    "l2_x = list(x.toDense())\n",
    "l2_r = r.toDense()\n",
    "x.records"
   ]
  },
  {
   "cell_type": "markdown",
   "metadata": {},
   "source": [
    "Loss Function 4: k-norm Model"
   ]
  },
  {
   "cell_type": "code",
   "execution_count": 8,
   "metadata": {},
   "outputs": [
    {
     "data": {
      "text/html": [
       "<div>\n",
       "<style scoped>\n",
       "    .dataframe tbody tr th:only-of-type {\n",
       "        vertical-align: middle;\n",
       "    }\n",
       "\n",
       "    .dataframe tbody tr th {\n",
       "        vertical-align: top;\n",
       "    }\n",
       "\n",
       "    .dataframe thead th {\n",
       "        text-align: right;\n",
       "    }\n",
       "</style>\n",
       "<table border=\"1\" class=\"dataframe\">\n",
       "  <thead>\n",
       "    <tr style=\"text-align: right;\">\n",
       "      <th></th>\n",
       "      <th>load_cell</th>\n",
       "      <th>level</th>\n",
       "      <th>marginal</th>\n",
       "      <th>lower</th>\n",
       "      <th>upper</th>\n",
       "      <th>scale</th>\n",
       "    </tr>\n",
       "  </thead>\n",
       "  <tbody>\n",
       "    <tr>\n",
       "      <th>0</th>\n",
       "      <td>adc_a</td>\n",
       "      <td>0.052300</td>\n",
       "      <td>0.0</td>\n",
       "      <td>0.0</td>\n",
       "      <td>inf</td>\n",
       "      <td>1.0</td>\n",
       "    </tr>\n",
       "    <tr>\n",
       "      <th>1</th>\n",
       "      <td>adc_b</td>\n",
       "      <td>0.055325</td>\n",
       "      <td>0.0</td>\n",
       "      <td>0.0</td>\n",
       "      <td>inf</td>\n",
       "      <td>1.0</td>\n",
       "    </tr>\n",
       "    <tr>\n",
       "      <th>2</th>\n",
       "      <td>adc_c</td>\n",
       "      <td>0.054353</td>\n",
       "      <td>0.0</td>\n",
       "      <td>0.0</td>\n",
       "      <td>inf</td>\n",
       "      <td>1.0</td>\n",
       "    </tr>\n",
       "    <tr>\n",
       "      <th>3</th>\n",
       "      <td>adc_d</td>\n",
       "      <td>0.053536</td>\n",
       "      <td>0.0</td>\n",
       "      <td>0.0</td>\n",
       "      <td>inf</td>\n",
       "      <td>1.0</td>\n",
       "    </tr>\n",
       "  </tbody>\n",
       "</table>\n",
       "</div>"
      ],
      "text/plain": [
       "  load_cell     level  marginal  lower  upper  scale\n",
       "0     adc_a  0.052300       0.0    0.0    inf    1.0\n",
       "1     adc_b  0.055325       0.0    0.0    inf    1.0\n",
       "2     adc_c  0.054353       0.0    0.0    inf    1.0\n",
       "3     adc_d  0.053536       0.0    0.0    inf    1.0"
      ]
     },
     "execution_count": 8,
     "metadata": {},
     "output_type": "execute_result"
    }
   ],
   "source": [
    "# arbitraliy set k to 3\n",
    "\n",
    "# the k-norm model sums the absolute values of the k largest residuals\n",
    "\n",
    "# the dual formulation of the k-norm model:\n",
    "\n",
    "k = m.addParameter('k',records=25) \n",
    "\n",
    "p = m.addVariable('p','positive',domain=row)\n",
    "q = m.addVariable('q','positive',domain=row)\n",
    "u = m.addVariable('u','positive',domain=row)\n",
    "v = m.addVariable('v','positive',domain=row)\n",
    "w = m.addVariable('w','positive')\n",
    "\n",
    "rdef = m.addEquation('rdef', domain=row)\n",
    "rdef[row] = p[row] - q[row] + u[row] - v[row] == r[row]\n",
    "\n",
    "defn = m.addEquation('defn', domain=row)\n",
    "defn[row] = -u[row] - v[row] + w == 0\n",
    "\n",
    "knorm = m.addModel('knorm',\n",
    "    equations=[eqn,rdef,defn],\n",
    "    problem=Problem.LP,\n",
    "    sense=Sense.MIN,\n",
    "    objective=Sum(row, p[row] + q[row]) + k*w\n",
    ")\n",
    "\n",
    "knorm.solve(output=None)\n",
    "x.records"
   ]
  },
  {
   "cell_type": "markdown",
   "metadata": {},
   "source": [
    "**Tuning parameter: k**\n",
    "\n",
    "I adjust the tuning parameter k by trying 25 different values for k and calculating the RMSE (root mean squared error) between the set coefficients and the coefficients predicted by the k-norm model. Then, I save the k value of the lowest RMSE to rerun my k-norm model.\n",
    "\n",
    "Note: The k-norm model with k=1 is equivalent to the minimax model, and the k-norm model with k=25 is equivalent to the 1-norm model"
   ]
  },
  {
   "cell_type": "code",
   "execution_count": 9,
   "metadata": {},
   "outputs": [
    {
     "name": "stdout",
     "output_type": "stream",
     "text": [
      "Minimum RMSE k value:  17\n"
     ]
    }
   ],
   "source": [
    "k_list = []\n",
    "rmse_list = []\n",
    "\n",
    "for n in range(1,25):\n",
    "    k.setRecords(n)\n",
    "    knorm.solve()\n",
    "    predicted = x.toDense()\n",
    "    sq_err = [(coefficients[i] - predicted[i])**2 for i in range(4)]\n",
    "    rmse = math.sqrt(0.25*sum(sq_err))\n",
    "    k_list.append(n)\n",
    "    rmse_list.append(rmse)\n",
    "\n",
    "min_knorm_rmse = min(rmse_list)\n",
    "min_k = (k_list[rmse_list.index(min_knorm_rmse)])\n",
    "\n",
    "k.setRecords(min_k)\n",
    "knorm.solve()\n",
    "k_norm_r = r.toDense()\n",
    "\n",
    "print(\"Minimum RMSE k value: \", min_k)"
   ]
  },
  {
   "cell_type": "code",
   "execution_count": 10,
   "metadata": {},
   "outputs": [
    {
     "data": {
      "image/png": "[encoded data removed]",
      "text/plain": [
       "<Figure size 576x432 with 1 Axes>"
      ]
     },
     "metadata": {
      "needs_background": "light"
     },
     "output_type": "display_data"
    }
   ],
   "source": [
    "%matplotlib inline\n",
    "\n",
    "fig, ax = plt.subplots(figsize=(8,6))\n",
    "ax.set_title(\"RMSE as a function of k\")\n",
    "ax.set_xlabel(\"k\")\n",
    "ax.set_ylabel(\"RMSE\")\n",
    "ax.plot(k_list,rmse_list,\"b.-\");"
   ]
  },
  {
   "cell_type": "markdown",
   "metadata": {},
   "source": [
    "Loss Function 5: Huber Model\n"
   ]
  },
  {
   "cell_type": "code",
   "execution_count": 11,
   "metadata": {},
   "outputs": [
    {
     "data": {
      "text/html": [
       "<div>\n",
       "<style scoped>\n",
       "    .dataframe tbody tr th:only-of-type {\n",
       "        vertical-align: middle;\n",
       "    }\n",
       "\n",
       "    .dataframe tbody tr th {\n",
       "        vertical-align: top;\n",
       "    }\n",
       "\n",
       "    .dataframe thead th {\n",
       "        text-align: right;\n",
       "    }\n",
       "</style>\n",
       "<table border=\"1\" class=\"dataframe\">\n",
       "  <thead>\n",
       "    <tr style=\"text-align: right;\">\n",
       "      <th></th>\n",
       "      <th>load_cell</th>\n",
       "      <th>level</th>\n",
       "      <th>marginal</th>\n",
       "      <th>lower</th>\n",
       "      <th>upper</th>\n",
       "      <th>scale</th>\n",
       "    </tr>\n",
       "  </thead>\n",
       "  <tbody>\n",
       "    <tr>\n",
       "      <th>0</th>\n",
       "      <td>adc_a</td>\n",
       "      <td>0.052303</td>\n",
       "      <td>0.0</td>\n",
       "      <td>0.0</td>\n",
       "      <td>inf</td>\n",
       "      <td>1.0</td>\n",
       "    </tr>\n",
       "    <tr>\n",
       "      <th>1</th>\n",
       "      <td>adc_b</td>\n",
       "      <td>0.055274</td>\n",
       "      <td>0.0</td>\n",
       "      <td>0.0</td>\n",
       "      <td>inf</td>\n",
       "      <td>1.0</td>\n",
       "    </tr>\n",
       "    <tr>\n",
       "      <th>2</th>\n",
       "      <td>adc_c</td>\n",
       "      <td>0.054297</td>\n",
       "      <td>0.0</td>\n",
       "      <td>0.0</td>\n",
       "      <td>inf</td>\n",
       "      <td>1.0</td>\n",
       "    </tr>\n",
       "    <tr>\n",
       "      <th>3</th>\n",
       "      <td>adc_d</td>\n",
       "      <td>0.053619</td>\n",
       "      <td>0.0</td>\n",
       "      <td>0.0</td>\n",
       "      <td>inf</td>\n",
       "      <td>1.0</td>\n",
       "    </tr>\n",
       "  </tbody>\n",
       "</table>\n",
       "</div>"
      ],
      "text/plain": [
       "  load_cell     level  marginal  lower  upper  scale\n",
       "0     adc_a  0.052303       0.0    0.0    inf    1.0\n",
       "1     adc_b  0.055274       0.0    0.0    inf    1.0\n",
       "2     adc_c  0.054297       0.0    0.0    inf    1.0\n",
       "3     adc_d  0.053619       0.0    0.0    inf    1.0"
      ]
     },
     "execution_count": 11,
     "metadata": {},
     "output_type": "execute_result"
    }
   ],
   "source": [
    "# Huber model \n",
    "\n",
    "# Parameters\n",
    "sigma = m.addParameter('sigma',description=\"cutoff for quadratic penalty\")\n",
    "\n",
    "# Variables\n",
    "t = m.addVariable('t',domain=row,description='residual l_1 error')\n",
    "\n",
    "# Equations\n",
    "upp = m.addEquation('upp',domain=row) \n",
    "upp[row] = b[row] - Sum(load_cell, A[row,load_cell]*x[load_cell]) - r[row] <= t[row]\n",
    "\n",
    "low = m.addEquation('low',domain=row) \n",
    "low[row] = -t[row] <= b[row] - Sum(load_cell, A[row,load_cell]*x[load_cell]) - r[row]\n",
    "\n",
    "obj= 0.5*Sum(row, gpm.sqr(r[row])) + sigma*Sum(row, t[row])\n",
    "\n",
    "hubmod = m.addModel('hubmod',\n",
    "    equations=[low,upp],\n",
    "    problem=Problem.QCP,\n",
    "    sense=Sense.MIN,\n",
    "    objective=obj)\n",
    "\n",
    "\n",
    "sigma.setRecords(1) #arbitrarily set sigma to 1\n",
    "\n",
    "hubmod.solve(options=Options(qcp=\"conopt\"),output=None)\n",
    "\n",
    "x.records"
   ]
  },
  {
   "cell_type": "markdown",
   "metadata": {},
   "source": [
    "**Tuning parameter: sigma**\n",
    "\n",
    "I adjust the tuning parameter sigma by trying 20 different values for sigma and calculating the RMSE (root mean squared error) between the set coefficients and the coefficients predicted by the huber model. Then, I save the sigma value of the lowest RMSE to rerun my huber model."
   ]
  },
  {
   "cell_type": "code",
   "execution_count": 12,
   "metadata": {},
   "outputs": [
    {
     "name": "stdout",
     "output_type": "stream",
     "text": [
      "Minimum RMSE sigma value:  0.21052631578947367\n"
     ]
    }
   ],
   "source": [
    "sig = []\n",
    "rmse_list = []\n",
    "\n",
    "for n in np.linspace(0,1,20):\n",
    "    sigma.setRecords(n)\n",
    "    hubmod.solve(options=Options(qcp=\"conopt\"),output=None)\n",
    "    predicted = x.toDense()\n",
    "    sq_err = [(coefficients[i] - predicted[i])**2 for i in range(4)]\n",
    "    rmse = math.sqrt(0.25*sum(sq_err))\n",
    "    sig.append(n)\n",
    "    rmse_list.append(rmse)\n",
    "\n",
    "min_huber_rmse = min(rmse_list)\n",
    "minsigma = (sig[rmse_list.index(min_huber_rmse)])\n",
    "\n",
    "sigma.setRecords(minsigma)\n",
    "hubmod.solve(options=Options(qcp=\"conopt\"),output=None)\n",
    "huber_r = r.toDense()\n",
    "\n",
    "print(\"Minimum RMSE sigma value: \", minsigma)"
   ]
  },
  {
   "cell_type": "code",
   "execution_count": 13,
   "metadata": {},
   "outputs": [
    {
     "data": {
      "image/png": "[encoded data removed]",
      "text/plain": [
       "<Figure size 576x432 with 1 Axes>"
      ]
     },
     "metadata": {
      "needs_background": "light"
     },
     "output_type": "display_data"
    }
   ],
   "source": [
    "%matplotlib inline\n",
    "\n",
    "fig, ax = plt.subplots(figsize=(8,6))\n",
    "ax.set_title(\"RMSE as a function of $\\\\sigma$\")\n",
    "ax.set_xlabel(\"$\\\\sigma$\")\n",
    "ax.set_ylabel(\"RMSE\")\n",
    "ax.plot(sig,rmse_list,\"b.-\");"
   ]
  },
  {
   "cell_type": "code",
   "execution_count": 14,
   "metadata": {},
   "outputs": [
    {
     "data": {
      "text/html": [
       "<div>\n",
       "<style scoped>\n",
       "    .dataframe tbody tr th:only-of-type {\n",
       "        vertical-align: middle;\n",
       "    }\n",
       "\n",
       "    .dataframe tbody tr th {\n",
       "        vertical-align: top;\n",
       "    }\n",
       "\n",
       "    .dataframe thead th {\n",
       "        text-align: right;\n",
       "    }\n",
       "</style>\n",
       "<table border=\"1\" class=\"dataframe\">\n",
       "  <thead>\n",
       "    <tr style=\"text-align: right;\">\n",
       "      <th></th>\n",
       "      <th>load_cell</th>\n",
       "      <th>level</th>\n",
       "      <th>marginal</th>\n",
       "      <th>lower</th>\n",
       "      <th>upper</th>\n",
       "      <th>scale</th>\n",
       "    </tr>\n",
       "  </thead>\n",
       "  <tbody>\n",
       "    <tr>\n",
       "      <th>0</th>\n",
       "      <td>adc_a</td>\n",
       "      <td>0.052328</td>\n",
       "      <td>0.0</td>\n",
       "      <td>0.0</td>\n",
       "      <td>inf</td>\n",
       "      <td>1.0</td>\n",
       "    </tr>\n",
       "    <tr>\n",
       "      <th>1</th>\n",
       "      <td>adc_b</td>\n",
       "      <td>0.055323</td>\n",
       "      <td>0.0</td>\n",
       "      <td>0.0</td>\n",
       "      <td>inf</td>\n",
       "      <td>1.0</td>\n",
       "    </tr>\n",
       "    <tr>\n",
       "      <th>2</th>\n",
       "      <td>adc_c</td>\n",
       "      <td>0.054262</td>\n",
       "      <td>0.0</td>\n",
       "      <td>0.0</td>\n",
       "      <td>inf</td>\n",
       "      <td>1.0</td>\n",
       "    </tr>\n",
       "    <tr>\n",
       "      <th>3</th>\n",
       "      <td>adc_d</td>\n",
       "      <td>0.053589</td>\n",
       "      <td>0.0</td>\n",
       "      <td>0.0</td>\n",
       "      <td>inf</td>\n",
       "      <td>1.0</td>\n",
       "    </tr>\n",
       "  </tbody>\n",
       "</table>\n",
       "</div>"
      ],
      "text/plain": [
       "  load_cell     level  marginal  lower  upper  scale\n",
       "0     adc_a  0.052328       0.0    0.0    inf    1.0\n",
       "1     adc_b  0.055323       0.0    0.0    inf    1.0\n",
       "2     adc_c  0.054262       0.0    0.0    inf    1.0\n",
       "3     adc_d  0.053589       0.0    0.0    inf    1.0"
      ]
     },
     "execution_count": 14,
     "metadata": {},
     "output_type": "execute_result"
    }
   ],
   "source": [
    "# set sigma to tuned sigma value and rerun the huber model\n",
    "\n",
    "sigma.setRecords(minsigma)\n",
    "hubmod.solve(options=Options(qcp=\"conopt\"),output=None)\n",
    "\n",
    "x.records"
   ]
  },
  {
   "cell_type": "markdown",
   "metadata": {},
   "source": [
    "**Loss Function Comparison**\n",
    "\n",
    "To compare which loss function performed the best, I will first calculate the root mean square error between the predicted coefficients and actual coefficients for each loss function."
   ]
  },
  {
   "cell_type": "code",
   "execution_count": 15,
   "metadata": {},
   "outputs": [],
   "source": [
    "def calculate_rmse(x_predicted, x_actual):\n",
    "    if len(x_predicted) == len(x_actual):\n",
    "        sq_err = [(x_actual[i] - x_predicted[i])**2 for i in range(len(x_predicted))]\n",
    "        rmse = math.sqrt(0.25*sum(sq_err))\n",
    "        return rmse\n",
    "    \n",
    "minimax_rmse = calculate_rmse(minimax_x, coefficients)\n",
    "l1_rmse = calculate_rmse(l1_x, coefficients)\n",
    "l2_rmse = calculate_rmse(l2_x, coefficients)"
   ]
  },
  {
   "cell_type": "code",
   "execution_count": 16,
   "metadata": {},
   "outputs": [
    {
     "data": {
      "image/png": "[encoded data removed]",
      "text/plain": [
       "<Figure size 432x288 with 1 Axes>"
      ]
     },
     "metadata": {
      "needs_background": "light"
     },
     "output_type": "display_data"
    }
   ],
   "source": [
    "%matplotlib inline\n",
    "\n",
    "loss_functions = ['Minimax', '1-norm', '2-norm', f'k-norm({min_k})', f'Huber ({round(minsigma,2)})']\n",
    "rmse_vals = [minimax_rmse, l1_rmse, l2_rmse, min_knorm_rmse, min_knorm_rmse]\n",
    "\n",
    "plt.bar(loss_functions, rmse_vals, color='skyblue', edgecolor='black')\n",
    "plt.xlabel('Loss Functions')\n",
    "plt.ylabel('RMSE')\n",
    "plt.title('RMSE of Coefficients of Loss Functions')\n",
    "\n",
    "plt.show()"
   ]
  },
  {
   "cell_type": "markdown",
   "metadata": {},
   "source": [
    "All the loss functions perform relatively well but the k-norm (17) and Huber (0.21) model seem to perform the best in accurately predicting the load cell coefficients."
   ]
  },
  {
   "cell_type": "markdown",
   "metadata": {},
   "source": [
    "Next, I will plot boxplots of the residuals of each loss function, which is the difference between the actual force on the plate during a given trial, and the force calculated by the coefficients generated from the model."
   ]
  },
  {
   "cell_type": "code",
   "execution_count": 17,
   "metadata": {},
   "outputs": [
    {
     "data": {
      "image/png": "[encoded data removed]",
      "text/plain": [
       "<Figure size 432x288 with 1 Axes>"
      ]
     },
     "metadata": {
      "needs_background": "light"
     },
     "output_type": "display_data"
    }
   ],
   "source": [
    "loss_functions = ['Minimax', '1-norm', '2-norm', f'k-norm({min_k})', f'Huber ({round(minsigma,3)})']\n",
    "data = [minimax_r, l1_r, l2_r, k_norm_r, huber_r]\n",
    "\n",
    "plt.boxplot(data)\n",
    "plt.xticks([1, 2, 3, 4, 5], loss_functions)\n",
    "plt.title('Boxplots of Residuals of the Loss Functions')\n",
    "plt.xlabel('Loss Function')\n",
    "plt.ylabel('Residuals')\n",
    "\n",
    "plt.show()"
   ]
  },
  {
   "cell_type": "markdown",
   "metadata": {},
   "source": [
    "The boxplots show that the Huber ($\\sigma$ = 0.21) model has the smallest range in residual values, and its residuals are tightly centered around 0. This may indicate that the Huber ($\\sigma$ = 0.21) model is the best model for this project."
   ]
  },
  {
   "cell_type": "markdown",
   "metadata": {},
   "source": [
    "To analyze the residuals on a trial-by-trial basis, rather than as a distribution, I will display a line plot of the residuals by trial for each loss function."
   ]
  },
  {
   "cell_type": "code",
   "execution_count": 18,
   "metadata": {},
   "outputs": [
    {
     "data": {
      "image/png": "[encoded data removed]",
      "text/plain": [
       "<Figure size 720x432 with 1 Axes>"
      ]
     },
     "metadata": {
      "needs_background": "light"
     },
     "output_type": "display_data"
    }
   ],
   "source": [
    "rows = np.arange(len(minimax_r))\n",
    "\n",
    "plt.figure(figsize=(10, 6))\n",
    "plt.plot(rows, minimax_r, label='Minimax', marker='o')\n",
    "plt.plot(rows, l1_r, label='l1', marker='o')\n",
    "plt.plot(rows, l2_r, label='l2', marker='o')\n",
    "plt.plot(rows, k_norm_r, label='k-norm', marker='o')\n",
    "plt.plot(rows, huber_r, label='Huber', marker='o')\n",
    "plt.axhline(0, color='black', linestyle='--', label='Zero Residual')\n",
    "plt.xlabel('Row Index')\n",
    "plt.ylabel('Residuals')\n",
    "plt.title('Residuals Across Trials by Loss Function')\n",
    "plt.legend()\n",
    "plt.grid(alpha=0.5)\n",
    "plt.show()\n"
   ]
  },
  {
   "cell_type": "markdown",
   "metadata": {},
   "source": [
    "The residual line plot shows that some loss function residuals stay closer to 0 than others, but the plot is a bit hard to analyze with so many overlapping lines. To visualize this same concept differently, I will make a heat map that describes residual values by trial for each loss function."
   ]
  },
  {
   "cell_type": "code",
   "execution_count": 19,
   "metadata": {},
   "outputs": [
    {
     "data": {
      "image/png": "[encoded data removed]",
      "text/plain": [
       "<Figure size 576x432 with 2 Axes>"
      ]
     },
     "metadata": {
      "needs_background": "light"
     },
     "output_type": "display_data"
    }
   ],
   "source": [
    "import seaborn as sns\n",
    "\n",
    "# Combine residuals into a DataFrame\n",
    "residuals_df = pd.DataFrame({'Minimax': minimax_r, 'l1': l1_r, 'l2': l2_r, f'k-norm({min_k})': k_norm_r, f'Huber({round(minsigma,2)})': huber_r})\n",
    "\n",
    "plt.figure(figsize=(8, 6))\n",
    "sns.heatmap(residuals_df.T, annot=False, fmt=\".2f\", cmap='coolwarm', cbar_kws={'label': 'Residual'})\n",
    "plt.xlabel('Trial Index')\n",
    "plt.ylabel('Loss Function')\n",
    "plt.title('Residuals Heatmap')\n",
    "plt.show()\n"
   ]
  },
  {
   "cell_type": "markdown",
   "metadata": {},
   "source": [
    "Like the box plot, the residual heat map shows that the Huber ($\\sigma$ = 0.21) model has consistently small residuals."
   ]
  },
  {
   "cell_type": "markdown",
   "metadata": {},
   "source": [
    "**Sensitivity Analysis**\n",
    "\n",
    "In order to see how resistant each model is to noise, I will perturb the adc values (matrix **A**) with varying levels of noise, run each loss function model, and plot the RMSE of actual vs predicted coefficients."
   ]
  },
  {
   "cell_type": "code",
   "execution_count": 20,
   "metadata": {},
   "outputs": [
    {
     "data": {
      "image/png": "[encoded data removed]",
      "text/plain": [
       "<Figure size 576x432 with 1 Axes>"
      ]
     },
     "metadata": {
      "needs_background": "light"
     },
     "output_type": "display_data"
    }
   ],
   "source": [
    "%matplotlib inline\n",
    "\n",
    "rmse_dict = {'Minimax': [], '1-norm': [], '2-norm': [], f'k-norm ({min_k})': [], f'Huber ({round(minsigma, 2)})': []}\n",
    "\n",
    "noise_range = [i for i in range(1,11)]\n",
    "\n",
    "for i in noise_range:\n",
    "    np.random.seed(42)\n",
    "    df = test_data_generator(coefficients=coefficients, noise_tolerance=i)\n",
    "\n",
    "    adc_df = df[['adc_a', 'adc_b', 'adc_c', 'adc_d']]\n",
    "    weight_series = df['Total Weight']\n",
    "    A = Parameter(m,'A',domain=[row,'*'],records=adc_df,uels_on_axes=True, description='ADC values for each load cell')\n",
    "    b = Parameter(m, 'b', domain=[row], records=weight_series, uels_on_axes=True, description='total known weight on the force plate')\n",
    "\n",
    "    minimax.solve()\n",
    "    rmse_dict['Minimax'].append(calculate_rmse(list(x.toDense()), coefficients))\n",
    "\n",
    "    l1_error.solve()\n",
    "    rmse_dict['1-norm'].append(calculate_rmse(list(x.toDense()), coefficients))\n",
    "\n",
    "    min_SSE.solve()\n",
    "    rmse_dict['2-norm'].append(calculate_rmse(list(x.toDense()), coefficients))\n",
    "\n",
    "    k.setRecords(min_k)\n",
    "    knorm.solve()\n",
    "    rmse_dict[f'k-norm ({min_k})'].append(calculate_rmse(list(x.toDense()), coefficients))\n",
    "\n",
    "    sigma.setRecords(minsigma)\n",
    "    hubmod.solve()\n",
    "    rmse_dict[f'Huber ({round(minsigma, 2)})'].append(calculate_rmse(list(x.toDense()), coefficients))\n",
    "\n",
    "\n",
    "plt.figure(figsize=(8, 6))\n",
    "for label, y_values in rmse_dict.items():\n",
    "    plt.plot(noise_range, y_values, label=label)\n",
    "\n",
    "plt.xlabel('ADC Noise Tolerance')\n",
    "plt.ylabel('Coefficient RMSE')\n",
    "plt.title('Coefficient RMSE of Loss Function vs ADC Noise')\n",
    "plt.legend()\n",
    "\n",
    "plt.show()"
   ]
  },
  {
   "cell_type": "markdown",
   "metadata": {},
   "source": [
    "The sensitivity analysis revealed that the k-norm(17) loss function was the most resistant to noise variation. The Huber ($\\sigma$ = 0.21) model was about as resistant to noise as the k-norm model until the noise maximum tolerance reached 7 adc values, then it increased."
   ]
  },
  {
   "cell_type": "markdown",
   "metadata": {},
   "source": [
    "### Conclusion\n",
    "\n",
    "Based on the comparison of the loss functions and the sensitivity analysis, I conclude that the Huber model ($\\sigma$ = 0.21) is the best loss function to use to accurately and consistently solve for load cell calibration coefficients. Even though the Huber loss function showed an increase in RMSE at higher noise levels, it is not likely that measurements will reach noise levels that high. Furthermore, the Huber loss function residual range was smaller than all the other loss functions (see boxplots) and closely centered around 0, which means that it is capable of solving for coefficients that will calculate accurate and consistent force values."
   ]
  },
  {
   "cell_type": "markdown",
   "metadata": {},
   "source": [
    "### Going Further\n",
    "\n",
    "Next semester, my team will finish the force plates, and we will be able to use this optimization model to backsolve for load cell calibration coefficients. We will also test for force measurement accuracy with calibrated weights, which may inform the effectiveness of this model in a real-world application. Futhermore, the load cell manufacturer we used recommends that the load cells are recalibrated annually. With this optimization model, we could build a guided, user-friendly calibration protocol with no need to disassemble the plate and calibrate each load cell individually."
   ]
  }
 ],
 "metadata": {
  "kernelspec": {
   "display_name": "Python 3 (ipykernel)",
   "language": "python",
   "name": "python3"
  },
  "language_info": {
   "codemirror_mode": {
    "name": "ipython",
    "version": 3
   },
   "file_extension": ".py",
   "mimetype": "text/x-python",
   "name": "python",
   "nbconvert_exporter": "python",
   "pygments_lexer": "ipython3",
   "version": "3.9.12"
  }
 },
 "nbformat": 4,
 "nbformat_minor": 2
}
