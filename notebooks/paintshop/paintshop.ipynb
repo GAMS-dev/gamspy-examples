{
 "cells": [
  {
   "attachments": {},
   "cell_type": "markdown",
   "metadata": {},
   "source": [
    "# Heuristics vs Mathematical Optimization Using the Binary Paintshop Problem\n",
    "- In car manufacturing one of the final production steps is painting.\n",
    "- Multiple cars of different types (A to D) arrive in a given sequence at the paintshop.\n",
    " ![sequence](car_sequence.png)\n",
    "- The cars have to be painted with a base coat that is either white or black (here referred to as red or blue).\n",
    "- The demand for white and black colors for a given car type is also given.\n",
    "\n",
    "This problem can be simplified to a minimal working example:\n",
    "- In the sequence of cars arriving at the paintshop each vehicle type arrives exactly twice.\n",
    "- One car of each vehicle type has to be painted white, the other one has to be painted black.\n",
    "\n",
    "As changing colors requires time and produces waist, the goal is to minimize the number of color changes with respect to the constraint of coloring one car white and one black for each vehicle type.\n",
    "\n",
    "This problem can be solved both heuristically or with a mathematical optimization approach."
   ]
  },
  {
   "cell_type": "code",
   "execution_count": null,
   "metadata": {},
   "outputs": [],
   "source": [
    "# Install dependencies\n",
    "! pip install -q gamspy\n",
    "! gamspy install solver scip"
   ]
  },
  {
   "cell_type": "code",
   "execution_count": 2,
   "metadata": {},
   "outputs": [],
   "source": [
    "import random\n",
    "random.seed(16)"
   ]
  },
  {
   "cell_type": "markdown",
   "metadata": {},
   "source": [
    "## Data"
   ]
  },
  {
   "cell_type": "code",
   "execution_count": 3,
   "metadata": {},
   "outputs": [
    {
     "data": {
      "text/plain": [
       "6"
      ]
     },
     "execution_count": 3,
     "metadata": {},
     "output_type": "execute_result"
    }
   ],
   "source": [
    "sequence = [\"A\", \"D\", \"E\", \"B\", \"A\", \"F\", \"C\", \"B\", \"C\", \"D\", \"E\", \"F\"]\n",
    "types = set(sequence)\n",
    "n_types = len(types)\n",
    "n_types"
   ]
  },
  {
   "attachments": {},
   "cell_type": "markdown",
   "metadata": {},
   "source": [
    "## Heuristic\n",
    "- Start to color every vehicle type white\n",
    "- Continue to use white as long as possible\n",
    "- Than switch color until every car is painted"
   ]
  },
  {
   "cell_type": "code",
   "execution_count": 4,
   "metadata": {},
   "outputs": [
    {
     "name": "stdout",
     "output_type": "stream",
     "text": [
      "['white', 'white', 'white', 'white', 'black', 'black', 'black', 'black', 'white', 'black', 'black', 'white']\n",
      "Number of changes: 4\n"
     ]
    }
   ],
   "source": [
    "changes = 0\n",
    "colors = {\"white\": set(), \"black\": set()}\n",
    "result = []\n",
    "\n",
    "\n",
    "def paint_car(colors_dict, result_list, color, car_type):\n",
    "    colors_dict[color].add(car_type)\n",
    "    result_list.append(color)\n",
    "\n",
    "\n",
    "current_color = \"white\"\n",
    "for car in sequence:\n",
    "    if car not in colors[current_color]:\n",
    "        paint_car(colors, result, current_color, car)\n",
    "    else:\n",
    "        # change color\n",
    "        changes += 1\n",
    "        if current_color == \"white\":\n",
    "            current_color = \"black\"\n",
    "        else:\n",
    "            current_color = \"white\"\n",
    "        paint_car(colors, result, current_color, car)\n",
    "\n",
    "print(result)\n",
    "print(\"Number of changes:\", changes)"
   ]
  },
  {
   "cell_type": "markdown",
   "metadata": {},
   "source": [
    "## Mathematical Modeling\n",
    "\n",
    "First we define the necessary sets and our variable $X_i$ which is a binary variable and has domain $i$."
   ]
  },
  {
   "cell_type": "code",
   "execution_count": 5,
   "metadata": {},
   "outputs": [],
   "source": [
    "import gamspy as gp\n",
    "from gamspy.math import sqr\n",
    "\n",
    "# create container\n",
    "m = gp.Container()\n",
    "\n",
    "# create sets\n",
    "i = gp.Set(m, \"i\", description=\"number in sequence\")\n",
    "j = gp.Set(m, \"j\", description=\"car type\")\n",
    "IJ = gp.Set(\n",
    "    m,\n",
    "    \"IJ\",\n",
    "    domain=[i, j],\n",
    "    records=[(i + 1, sequence[i]) for i in range(len(sequence))],\n",
    "    domain_forwarding=True,\n",
    ")\n",
    "\n",
    "# create variables\n",
    "X = m.addVariable(\"X\", domain=[i], type=\"binary\", description=\"color indicator\")"
   ]
  },
  {
   "cell_type": "markdown",
   "metadata": {},
   "source": [
    "We define our constraint \n",
    "\n",
    "$$\\sum_{i: (i,j) \\in \\mathcal{IJ}} X_i = 1; \\forall \\ j \\in \\mathcal{J}$$\n",
    "\n",
    "as an Equation. Since it holds for all $j$ the equation is in the domain $j$. Then we can directly use `gp.Sum()` to define the constraint.\n",
    "\n",
    "The objective \n",
    "$$\\sum_{i \\in \\mathcal{I} \\hspace{0.75mm} | \\hspace{0.75mm} i < |I|} (X_i - X_{i+1})^2$$\n",
    "\n",
    "is defined as an expression."
   ]
  },
  {
   "cell_type": "code",
   "execution_count": 6,
   "metadata": {},
   "outputs": [],
   "source": [
    "BlackOnce = gp.Equation(\n",
    "    container=m,\n",
    "    name=\"BlackOnce\",\n",
    "    domain=j,\n",
    "    description=\"Ensure that each position i is painted black exactly once.\",\n",
    ")\n",
    "\n",
    "BlackOnce[j] = gp.Sum(IJ[i, j], X[i]) == 1\n",
    "\n",
    "obj = gp.Sum(i.where[gp.Ord(i) < gp.Card(i)], sqr(X[i] - X[i + 1]))"
   ]
  },
  {
   "cell_type": "markdown",
   "metadata": {},
   "source": [
    "Finally, we assemble everything in our model. Since the objective is a quadratic function the model type is MIQCP (Mixed Integer Quadratically Constrained Program). Now we only need to solve it with a specified solver, here we pick CPLEX."
   ]
  },
  {
   "cell_type": "code",
   "execution_count": 7,
   "metadata": {},
   "outputs": [
    {
     "data": {
      "text/html": [
       "<div>\n",
       "<style scoped>\n",
       "    .dataframe tbody tr th:only-of-type {\n",
       "        vertical-align: middle;\n",
       "    }\n",
       "\n",
       "    .dataframe tbody tr th {\n",
       "        vertical-align: top;\n",
       "    }\n",
       "\n",
       "    .dataframe thead th {\n",
       "        text-align: right;\n",
       "    }\n",
       "</style>\n",
       "<table border=\"1\" class=\"dataframe\">\n",
       "  <thead>\n",
       "    <tr style=\"text-align: right;\">\n",
       "      <th></th>\n",
       "      <th>Solver Status</th>\n",
       "      <th>Model Status</th>\n",
       "      <th>Objective</th>\n",
       "      <th>Num of Equations</th>\n",
       "      <th>Num of Variables</th>\n",
       "      <th>Model Type</th>\n",
       "      <th>Solver</th>\n",
       "      <th>Solver Time</th>\n",
       "    </tr>\n",
       "  </thead>\n",
       "  <tbody>\n",
       "    <tr>\n",
       "      <th>0</th>\n",
       "      <td>Normal</td>\n",
       "      <td>OptimalGlobal</td>\n",
       "      <td>2.0</td>\n",
       "      <td>7</td>\n",
       "      <td>13</td>\n",
       "      <td>MIQCP</td>\n",
       "      <td>CPLEX</td>\n",
       "      <td>4.672</td>\n",
       "    </tr>\n",
       "  </tbody>\n",
       "</table>\n",
       "</div>"
      ],
      "text/plain": [
       "  Solver Status   Model Status  Objective  Num of Equations  Num of Variables  \\\n",
       "0        Normal  OptimalGlobal        2.0                 7                13   \n",
       "\n",
       "  Model Type Solver  Solver Time  \n",
       "0      MIQCP  CPLEX        4.672  "
      ]
     },
     "execution_count": 7,
     "metadata": {},
     "output_type": "execute_result"
    }
   ],
   "source": [
    "paintshop = gp.Model(\n",
    "    container=m,\n",
    "    name=\"paintshop\",\n",
    "    equations=[BlackOnce],\n",
    "    problem=\"MIQCP\",\n",
    "    sense=gp.Sense.MIN,\n",
    "    objective=obj,\n",
    ")\n",
    "\n",
    "paintshop.solve(solver=\"CPLEX\")"
   ]
  },
  {
   "cell_type": "markdown",
   "metadata": {},
   "source": [
    "Now we can display the objective value, meaning the number of changes:"
   ]
  },
  {
   "cell_type": "code",
   "execution_count": 8,
   "metadata": {},
   "outputs": [
    {
     "data": {
      "text/plain": [
       "2.0"
      ]
     },
     "execution_count": 8,
     "metadata": {},
     "output_type": "execute_result"
    }
   ],
   "source": [
    "opt_changes = paintshop.objective_value\n",
    "opt_changes"
   ]
  },
  {
   "cell_type": "markdown",
   "metadata": {},
   "source": [
    "Or also the value of X for each position:"
   ]
  },
  {
   "cell_type": "code",
   "execution_count": 9,
   "metadata": {},
   "outputs": [
    {
     "data": {
      "text/plain": [
       "0     0.0\n",
       "1     1.0\n",
       "2     1.0\n",
       "3     1.0\n",
       "4     1.0\n",
       "5     1.0\n",
       "6     1.0\n",
       "7     0.0\n",
       "8     0.0\n",
       "9     0.0\n",
       "10    0.0\n",
       "11    0.0\n",
       "Name: level, dtype: float64"
      ]
     },
     "execution_count": 9,
     "metadata": {},
     "output_type": "execute_result"
    }
   ],
   "source": [
    "X.records[\"level\"]"
   ]
  },
  {
   "attachments": {},
   "cell_type": "markdown",
   "metadata": {},
   "source": [
    "## Compare"
   ]
  },
  {
   "cell_type": "code",
   "execution_count": 10,
   "metadata": {},
   "outputs": [],
   "source": [
    "def display_colored_sequence(method, sequence, color_data):\n",
    "\n",
    "    # Define ANSI color codes\n",
    "    RED = \"\\033[91m\"\n",
    "    BLUE = \"\\033[94m\"\n",
    "    RESET = \"\\033[0m\"\n",
    "\n",
    "    colored_output = []\n",
    "\n",
    "    if method.lower() == \"optimization\":\n",
    "        # Dynamically assign red to the starting level\n",
    "        color_map = {color_data[0]: RED, 1 - color_data[0]: BLUE}\n",
    "        for i, char in enumerate(sequence):\n",
    "            colored_output.append(color_map[color_data[i]])\n",
    "            colored_output.append(char)\n",
    "\n",
    "    elif method.lower() == \"heuristic\":\n",
    "        for i, char in enumerate(sequence):\n",
    "            # Assign red to 'white' and blue to anything else\n",
    "            color = RED if color_data[i] == \"white\" else BLUE\n",
    "            colored_output.append(color)\n",
    "            colored_output.append(char)\n",
    "\n",
    "    colored_output.append(RESET)\n",
    "\n",
    "    print(\"The coloring sequence is:\", \"\".join(colored_output))\n"
   ]
  },
  {
   "attachments": {},
   "cell_type": "markdown",
   "metadata": {},
   "source": [
    "### Optimization"
   ]
  },
  {
   "cell_type": "code",
   "execution_count": 11,
   "metadata": {},
   "outputs": [
    {
     "name": "stdout",
     "output_type": "stream",
     "text": [
      "Using the optimization approach 2 color changes are needed.\n",
      "The coloring sequence is: \u001b[91mA\u001b[94mD\u001b[94mE\u001b[94mB\u001b[94mA\u001b[94mF\u001b[94mC\u001b[91mB\u001b[91mC\u001b[91mD\u001b[91mE\u001b[91mF\u001b[0m\n"
     ]
    }
   ],
   "source": [
    "print(f\"Using the optimization approach {round(opt_changes)} color changes are needed.\")\n",
    "display_colored_sequence(\"optimization\", sequence, X.records[\"level\"])"
   ]
  },
  {
   "attachments": {},
   "cell_type": "markdown",
   "metadata": {},
   "source": [
    "### Heuristic"
   ]
  },
  {
   "cell_type": "code",
   "execution_count": 12,
   "metadata": {},
   "outputs": [
    {
     "name": "stdout",
     "output_type": "stream",
     "text": [
      "Using the heuristic approach 4 color changes are needed.\n",
      "The coloring sequence is: \u001b[91mA\u001b[91mD\u001b[91mE\u001b[91mB\u001b[94mA\u001b[94mF\u001b[94mC\u001b[94mB\u001b[91mC\u001b[94mD\u001b[94mE\u001b[91mF\u001b[0m\n"
     ]
    }
   ],
   "source": [
    "print(f\"Using the heuristic approach {changes} color changes are needed.\")\n",
    "display_colored_sequence(\"heuristic\", sequence, result)"
   ]
  },
  {
   "attachments": {},
   "cell_type": "markdown",
   "metadata": {},
   "source": [
    "## Transfer to the Real World - Multi Vehicle Paintshop Problem\n",
    "The presented problem is a very easy and simplified version of the real problem where a given number of vehicles of different type arrive in a given sequence at the paint shop and a given share of each vehicle type has to be painted black and the rest white. However, the simplified version gives us a slight impression of how powerful mathematical optimization is. \n",
    "Solving the real (multi vehicle paint shop problem) is a more complicated version of the presented (binary paint shop problem).  "
   ]
  },
  {
   "attachments": {},
   "cell_type": "markdown",
   "metadata": {},
   "source": [
    "## Data"
   ]
  },
  {
   "cell_type": "code",
   "execution_count": 13,
   "metadata": {},
   "outputs": [
    {
     "data": {
      "text/plain": [
       "{'B': 16, 'F': 4, 'E': 15, 'D': 2, 'A': 3, 'C': 10}"
      ]
     },
     "execution_count": 13,
     "metadata": {},
     "output_type": "execute_result"
    }
   ],
   "source": [
    "sequence = random.choices(list(types), k=128)\n",
    "demand_white = {t: random.randint(0, sequence.count(t)) for t in types}\n",
    "demand_black = {t: sequence.count(t) - demand_white[t] for t in types}\n",
    "demand_white"
   ]
  },
  {
   "cell_type": "markdown",
   "metadata": {},
   "source": [
    "## Heuristic"
   ]
  },
  {
   "cell_type": "code",
   "execution_count": 14,
   "metadata": {},
   "outputs": [
    {
     "name": "stdout",
     "output_type": "stream",
     "text": [
      "Using the heuristic approach 31 color changes are needed.\n",
      "The coloring sequence is: \u001b[91mE\u001b[91mE\u001b[91mE\u001b[91mE\u001b[91mE\u001b[91mD\u001b[91mF\u001b[91mD\u001b[91mB\u001b[91mF\u001b[91mE\u001b[91mB\u001b[91mA\u001b[91mF\u001b[91mA\u001b[91mC\u001b[91mF\u001b[91mC\u001b[91mA\u001b[94mA\u001b[94mB\u001b[94mE\u001b[94mD\u001b[94mF\u001b[94mF\u001b[94mF\u001b[94mF\u001b[94mA\u001b[94mE\u001b[94mE\u001b[94mD\u001b[94mC\u001b[94mF\u001b[94mB\u001b[94mC\u001b[94mA\u001b[94mA\u001b[94mD\u001b[94mF\u001b[94mB\u001b[94mF\u001b[94mE\u001b[94mB\u001b[94mA\u001b[94mA\u001b[94mB\u001b[94mC\u001b[94mE\u001b[94mC\u001b[94mE\u001b[94mA\u001b[94mE\u001b[94mD\u001b[94mE\u001b[94mB\u001b[94mB\u001b[94mF\u001b[94mE\u001b[94mE\u001b[94mD\u001b[94mD\u001b[94mE\u001b[94mF\u001b[94mD\u001b[94mC\u001b[94mA\u001b[94mD\u001b[94mA\u001b[94mF\u001b[94mB\u001b[94mB\u001b[94mB\u001b[94mB\u001b[94mD\u001b[94mC\u001b[91mB\u001b[94mA\u001b[91mC\u001b[94mA\u001b[91mB\u001b[94mD\u001b[94mF\u001b[94mF\u001b[91mB\u001b[94mD\u001b[91mC\u001b[91mB\u001b[91mB\u001b[91mE\u001b[91mB\u001b[91mE\u001b[94mA\u001b[91mE\u001b[91mB\u001b[91mB\u001b[94mF\u001b[94mA\u001b[91mC\u001b[94mD\u001b[91mB\u001b[94mF\u001b[91mE\u001b[91mB\u001b[91mB\u001b[91mE\u001b[91mC\u001b[94mF\u001b[91mC\u001b[91mC\u001b[91mE\u001b[94mF\u001b[94mF\u001b[94mA\u001b[94mA\u001b[91mC\u001b[94mF\u001b[91mE\u001b[91mB\u001b[94mF\u001b[94mF\u001b[91mB\u001b[91mB\u001b[91mC\u001b[94mF\u001b[91mE\u001b[94mD\u001b[91mE\u001b[94mD\u001b[0m\n"
     ]
    }
   ],
   "source": [
    "changes = 0\n",
    "colors = {\"white\": dict(demand_white), \"black\": dict(demand_black)}\n",
    "result = []\n",
    "\n",
    "\n",
    "def paint_car(colors_dict, result_list, color, car_type):\n",
    "    colors_dict[color][car_type] -= 1\n",
    "    result_list.append(color)\n",
    "\n",
    "\n",
    "current_color = \"white\"\n",
    "for car in sequence:\n",
    "    if colors[current_color][car] > 0:\n",
    "        paint_car(colors, result, current_color, car)\n",
    "    else:\n",
    "        # change color\n",
    "        changes += 1\n",
    "        if current_color == \"white\":\n",
    "            current_color = \"black\"\n",
    "        else:\n",
    "            current_color = \"white\"\n",
    "        paint_car(colors, result, current_color, car)\n",
    "\n",
    "\n",
    "print(f\"Using the heuristic approach {changes} color changes are needed.\")\n",
    "display_colored_sequence(\"heuristic\", sequence, result)"
   ]
  },
  {
   "attachments": {},
   "cell_type": "markdown",
   "metadata": {},
   "source": [
    "## Model"
   ]
  },
  {
   "cell_type": "markdown",
   "metadata": {},
   "source": [
    "### What modifications do we need to make to the constraint?\n",
    "\n",
    "So far: $$\\sum_{i: (i,j) \\in \\mathcal{IJ}} X_i = 1; \\forall \\ j \\in \\mathcal{J}$$\n"
   ]
  },
  {
   "cell_type": "markdown",
   "metadata": {},
   "source": [
    "Now: \n",
    "\n",
    "$$\\sum_{i: (i,j) \\in \\mathcal{IJ}} X_i = d^{black}_j \\hspace{1cm} \\forall \\ j \\in \\mathcal{J}$$"
   ]
  },
  {
   "cell_type": "markdown",
   "metadata": {},
   "source": [
    "### What modifications do we need to make to the model implementation?\n",
    "\n",
    "First need to update the records of the set to account for the longer sequence:"
   ]
  },
  {
   "cell_type": "code",
   "execution_count": 15,
   "metadata": {},
   "outputs": [],
   "source": [
    "IJ.setRecords([(i + 1, sequence[i]) for i in range(len(sequence))])"
   ]
  },
  {
   "cell_type": "markdown",
   "metadata": {},
   "source": [
    "Then we need to introduce the new parameters $d_j^{black}$:"
   ]
  },
  {
   "cell_type": "code",
   "execution_count": 16,
   "metadata": {},
   "outputs": [],
   "source": [
    "\n",
    "# create parameters\n",
    "black_demand = gp.Parameter(\n",
    "    m,\n",
    "    \"black_demand\",\n",
    "    domain=[j],\n",
    "    records=[(type, demand) for type, demand in demand_black.items()],\n",
    ")\n"
   ]
  },
  {
   "cell_type": "markdown",
   "metadata": {},
   "source": [
    "And define the corresponding constraints, e.g. Equations:"
   ]
  },
  {
   "cell_type": "code",
   "execution_count": 17,
   "metadata": {},
   "outputs": [],
   "source": [
    "MeetBlackDemand = gp.Equation(m, \"MeetBlackDemand\", domain=j)\n",
    "MeetBlackDemand[j] = gp.Sum(IJ[i, j], X[i]) == black_demand[j]"
   ]
  },
  {
   "cell_type": "code",
   "execution_count": 26,
   "metadata": {},
   "outputs": [
    {
     "data": {
      "text/html": [
       "<div>\n",
       "<style scoped>\n",
       "    .dataframe tbody tr th:only-of-type {\n",
       "        vertical-align: middle;\n",
       "    }\n",
       "\n",
       "    .dataframe tbody tr th {\n",
       "        vertical-align: top;\n",
       "    }\n",
       "\n",
       "    .dataframe thead th {\n",
       "        text-align: right;\n",
       "    }\n",
       "</style>\n",
       "<table border=\"1\" class=\"dataframe\">\n",
       "  <thead>\n",
       "    <tr style=\"text-align: right;\">\n",
       "      <th></th>\n",
       "      <th>Solver Status</th>\n",
       "      <th>Model Status</th>\n",
       "      <th>Objective</th>\n",
       "      <th>Num of Equations</th>\n",
       "      <th>Num of Variables</th>\n",
       "      <th>Model Type</th>\n",
       "      <th>Solver</th>\n",
       "      <th>Solver Time</th>\n",
       "    </tr>\n",
       "  </thead>\n",
       "  <tbody>\n",
       "    <tr>\n",
       "      <th>0</th>\n",
       "      <td>Normal</td>\n",
       "      <td>OptimalGlobal</td>\n",
       "      <td>1.0</td>\n",
       "      <td>3</td>\n",
       "      <td>7</td>\n",
       "      <td>MIQCP</td>\n",
       "      <td>CPLEX</td>\n",
       "      <td>0.032</td>\n",
       "    </tr>\n",
       "  </tbody>\n",
       "</table>\n",
       "</div>"
      ],
      "text/plain": [
       "  Solver Status   Model Status  Objective  Num of Equations  Num of Variables  \\\n",
       "0        Normal  OptimalGlobal        1.0                 3                 7   \n",
       "\n",
       "  Model Type Solver  Solver Time  \n",
       "0      MIQCP  CPLEX        0.032  "
      ]
     },
     "execution_count": 26,
     "metadata": {},
     "output_type": "execute_result"
    }
   ],
   "source": [
    "multi_paintshop = gp.Model(\n",
    "    m,\n",
    "    \"MultiPaintshop\",\n",
    "    equations=[MeetBlackDemand],\n",
    "    problem=\"MIQCP\",\n",
    "    sense=gp.Sense.MIN,\n",
    "    objective=obj,\n",
    ")\n",
    "\n",
    "multi_paintshop.solve(solver=\"cplex\")"
   ]
  },
  {
   "cell_type": "code",
   "execution_count": null,
   "metadata": {},
   "outputs": [],
   "source": [
    "multi_paintshop.solve(solver=\"scip\")"
   ]
  },
  {
   "cell_type": "code",
   "execution_count": 20,
   "metadata": {},
   "outputs": [],
   "source": [
    "# multi_paintshop.solve(solver=\"shot\")"
   ]
  },
  {
   "cell_type": "code",
   "execution_count": 21,
   "metadata": {},
   "outputs": [
    {
     "data": {
      "text/plain": [
       "11.0"
      ]
     },
     "execution_count": 21,
     "metadata": {},
     "output_type": "execute_result"
    }
   ],
   "source": [
    "opt_changes = multi_paintshop.objective_value\n",
    "opt_changes"
   ]
  },
  {
   "attachments": {},
   "cell_type": "markdown",
   "metadata": {},
   "source": [
    "## Compare"
   ]
  },
  {
   "attachments": {},
   "cell_type": "markdown",
   "metadata": {},
   "source": [
    "### Mathematical Model"
   ]
  },
  {
   "cell_type": "code",
   "execution_count": null,
   "metadata": {},
   "outputs": [
    {
     "name": "stdout",
     "output_type": "stream",
     "text": [
      "Using the optimization approach 11 color changes are needed.\n",
      "The coloring sequence is: \u001b[91mE\u001b[91mE\u001b[91mE\u001b[91mE\u001b[91mE\u001b[94mD\u001b[94mF\u001b[94mD\u001b[94mB\u001b[94mF\u001b[94mE\u001b[94mB\u001b[94mA\u001b[94mF\u001b[94mA\u001b[94mC\u001b[94mF\u001b[94mC\u001b[94mA\u001b[94mA\u001b[94mB\u001b[94mE\u001b[94mD\u001b[94mF\u001b[94mF\u001b[94mF\u001b[94mF\u001b[94mA\u001b[94mE\u001b[94mE\u001b[94mD\u001b[94mC\u001b[94mF\u001b[94mB\u001b[94mC\u001b[94mA\u001b[94mA\u001b[94mD\u001b[94mF\u001b[94mB\u001b[94mF\u001b[94mE\u001b[94mB\u001b[94mA\u001b[94mA\u001b[91mB\u001b[91mC\u001b[91mE\u001b[91mC\u001b[91mE\u001b[94mA\u001b[94mE\u001b[94mD\u001b[94mE\u001b[94mB\u001b[94mB\u001b[94mF\u001b[94mE\u001b[94mE\u001b[94mD\u001b[94mD\u001b[94mE\u001b[94mF\u001b[94mD\u001b[94mC\u001b[94mA\u001b[94mD\u001b[94mA\u001b[94mF\u001b[91mB\u001b[91mB\u001b[91mB\u001b[91mB\u001b[91mD\u001b[91mC\u001b[91mB\u001b[91mA\u001b[91mC\u001b[94mA\u001b[94mB\u001b[94mD\u001b[94mF\u001b[94mF\u001b[94mB\u001b[94mD\u001b[91mC\u001b[91mB\u001b[91mB\u001b[91mE\u001b[91mB\u001b[91mE\u001b[91mA\u001b[91mE\u001b[91mB\u001b[91mB\u001b[91mF\u001b[91mA\u001b[91mC\u001b[91mD\u001b[91mB\u001b[91mF\u001b[91mE\u001b[91mB\u001b[91mB\u001b[91mE\u001b[91mC\u001b[91mF\u001b[91mC\u001b[91mC\u001b[91mE\u001b[94mF\u001b[94mF\u001b[94mA\u001b[94mA\u001b[94mC\u001b[94mF\u001b[91mE\u001b[94mB\u001b[94mF\u001b[94mF\u001b[91mB\u001b[91mB\u001b[91mC\u001b[91mF\u001b[91mE\u001b[94mD\u001b[94mE\u001b[94mD\u001b[0m\n"
     ]
    }
   ],
   "source": [
    "print(f\"Using the optimization approach {round(opt_changes)} color changes are needed.\")\n",
    "display_colored_sequence(\"optimization\", sequence, X.records[\"level\"])"
   ]
  },
  {
   "attachments": {},
   "cell_type": "markdown",
   "metadata": {},
   "source": [
    "### Heuristic"
   ]
  },
  {
   "cell_type": "code",
   "execution_count": 23,
   "metadata": {},
   "outputs": [
    {
     "name": "stdout",
     "output_type": "stream",
     "text": [
      "Using the heuristic approach 31 color changes are needed.\n",
      "The coloring sequence is: \u001b[91mE\u001b[91mE\u001b[91mE\u001b[91mE\u001b[91mE\u001b[91mD\u001b[91mF\u001b[91mD\u001b[91mB\u001b[91mF\u001b[91mE\u001b[91mB\u001b[91mA\u001b[91mF\u001b[91mA\u001b[91mC\u001b[91mF\u001b[91mC\u001b[91mA\u001b[94mA\u001b[94mB\u001b[94mE\u001b[94mD\u001b[94mF\u001b[94mF\u001b[94mF\u001b[94mF\u001b[94mA\u001b[94mE\u001b[94mE\u001b[94mD\u001b[94mC\u001b[94mF\u001b[94mB\u001b[94mC\u001b[94mA\u001b[94mA\u001b[94mD\u001b[94mF\u001b[94mB\u001b[94mF\u001b[94mE\u001b[94mB\u001b[94mA\u001b[94mA\u001b[94mB\u001b[94mC\u001b[94mE\u001b[94mC\u001b[94mE\u001b[94mA\u001b[94mE\u001b[94mD\u001b[94mE\u001b[94mB\u001b[94mB\u001b[94mF\u001b[94mE\u001b[94mE\u001b[94mD\u001b[94mD\u001b[94mE\u001b[94mF\u001b[94mD\u001b[94mC\u001b[94mA\u001b[94mD\u001b[94mA\u001b[94mF\u001b[94mB\u001b[94mB\u001b[94mB\u001b[94mB\u001b[94mD\u001b[94mC\u001b[91mB\u001b[94mA\u001b[91mC\u001b[94mA\u001b[91mB\u001b[94mD\u001b[94mF\u001b[94mF\u001b[91mB\u001b[94mD\u001b[91mC\u001b[91mB\u001b[91mB\u001b[91mE\u001b[91mB\u001b[91mE\u001b[94mA\u001b[91mE\u001b[91mB\u001b[91mB\u001b[94mF\u001b[94mA\u001b[91mC\u001b[94mD\u001b[91mB\u001b[94mF\u001b[91mE\u001b[91mB\u001b[91mB\u001b[91mE\u001b[91mC\u001b[94mF\u001b[91mC\u001b[91mC\u001b[91mE\u001b[94mF\u001b[94mF\u001b[94mA\u001b[94mA\u001b[91mC\u001b[94mF\u001b[91mE\u001b[91mB\u001b[94mF\u001b[94mF\u001b[91mB\u001b[91mB\u001b[91mC\u001b[94mF\u001b[91mE\u001b[94mD\u001b[91mE\u001b[94mD\u001b[0m\n"
     ]
    }
   ],
   "source": [
    "print(f\"Using the heuristic approach {changes} color changes are needed.\")\n",
    "display_colored_sequence(\"heuristic\", sequence, result)"
   ]
  }
 ],
 "metadata": {
  "kernelspec": {
   "display_name": "qusol",
   "language": "python",
   "name": "python3"
  },
  "language_info": {
   "codemirror_mode": {
    "name": "ipython",
    "version": 3
   },
   "file_extension": ".py",
   "mimetype": "text/x-python",
   "name": "python",
   "nbconvert_exporter": "python",
   "pygments_lexer": "ipython3",
   "version": "3.13.5"
  },
  "orig_nbformat": 4
 },
 "nbformat": 4,
 "nbformat_minor": 2
}
